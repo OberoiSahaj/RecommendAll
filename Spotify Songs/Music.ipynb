{
 "cells": [
  {
   "cell_type": "code",
   "execution_count": 1,
   "metadata": {},
   "outputs": [],
   "source": [
    "import pandas as pd\n",
    "import numpy as np\n",
    "from nltk import *\n",
    "from sklearn.preprocessing import LabelEncoder"
   ]
  },
  {
   "cell_type": "code",
   "execution_count": 2,
   "metadata": {},
   "outputs": [],
   "source": [
    "#Details of the features--\n",
    "#https://developer.spotify.com/documentation/web-api/reference/tracks/get-audio-features/"
   ]
  },
  {
   "cell_type": "code",
   "execution_count": 86,
   "metadata": {},
   "outputs": [
    {
     "data": {
      "text/html": [
       "<div>\n",
       "<style scoped>\n",
       "    .dataframe tbody tr th:only-of-type {\n",
       "        vertical-align: middle;\n",
       "    }\n",
       "\n",
       "    .dataframe tbody tr th {\n",
       "        vertical-align: top;\n",
       "    }\n",
       "\n",
       "    .dataframe thead th {\n",
       "        text-align: right;\n",
       "    }\n",
       "</style>\n",
       "<table border=\"1\" class=\"dataframe\">\n",
       "  <thead>\n",
       "    <tr style=\"text-align: right;\">\n",
       "      <th></th>\n",
       "      <th>genre</th>\n",
       "      <th>artist_name</th>\n",
       "      <th>track_name</th>\n",
       "      <th>track_id</th>\n",
       "      <th>popularity</th>\n",
       "      <th>acousticness</th>\n",
       "      <th>danceability</th>\n",
       "      <th>duration_ms</th>\n",
       "      <th>energy</th>\n",
       "      <th>instrumentalness</th>\n",
       "      <th>key</th>\n",
       "      <th>liveness</th>\n",
       "      <th>loudness</th>\n",
       "      <th>mode</th>\n",
       "      <th>speechiness</th>\n",
       "      <th>tempo</th>\n",
       "      <th>time_signature</th>\n",
       "      <th>valence</th>\n",
       "    </tr>\n",
       "  </thead>\n",
       "  <tbody>\n",
       "    <tr>\n",
       "      <th>0</th>\n",
       "      <td>Movie</td>\n",
       "      <td>Henri Salvador</td>\n",
       "      <td>C'est beau de faire un Show</td>\n",
       "      <td>0BRjO6ga9RKCKjfDqeFgWV</td>\n",
       "      <td>0</td>\n",
       "      <td>0.611</td>\n",
       "      <td>0.389</td>\n",
       "      <td>99373</td>\n",
       "      <td>0.910</td>\n",
       "      <td>0.000</td>\n",
       "      <td>C#</td>\n",
       "      <td>0.3460</td>\n",
       "      <td>-1.828</td>\n",
       "      <td>Major</td>\n",
       "      <td>0.0525</td>\n",
       "      <td>166.969</td>\n",
       "      <td>4/4</td>\n",
       "      <td>0.814</td>\n",
       "    </tr>\n",
       "    <tr>\n",
       "      <th>1</th>\n",
       "      <td>Movie</td>\n",
       "      <td>Martin &amp; les fées</td>\n",
       "      <td>Perdu d'avance (par Gad Elmaleh)</td>\n",
       "      <td>0BjC1NfoEOOusryehmNudP</td>\n",
       "      <td>1</td>\n",
       "      <td>0.246</td>\n",
       "      <td>0.590</td>\n",
       "      <td>137373</td>\n",
       "      <td>0.737</td>\n",
       "      <td>0.000</td>\n",
       "      <td>F#</td>\n",
       "      <td>0.1510</td>\n",
       "      <td>-5.559</td>\n",
       "      <td>Minor</td>\n",
       "      <td>0.0868</td>\n",
       "      <td>174.003</td>\n",
       "      <td>4/4</td>\n",
       "      <td>0.816</td>\n",
       "    </tr>\n",
       "    <tr>\n",
       "      <th>2</th>\n",
       "      <td>Movie</td>\n",
       "      <td>Joseph Williams</td>\n",
       "      <td>Don't Let Me Be Lonely Tonight</td>\n",
       "      <td>0CoSDzoNIKCRs124s9uTVy</td>\n",
       "      <td>3</td>\n",
       "      <td>0.952</td>\n",
       "      <td>0.663</td>\n",
       "      <td>170267</td>\n",
       "      <td>0.131</td>\n",
       "      <td>0.000</td>\n",
       "      <td>C</td>\n",
       "      <td>0.1030</td>\n",
       "      <td>-13.879</td>\n",
       "      <td>Minor</td>\n",
       "      <td>0.0362</td>\n",
       "      <td>99.488</td>\n",
       "      <td>5/4</td>\n",
       "      <td>0.368</td>\n",
       "    </tr>\n",
       "    <tr>\n",
       "      <th>3</th>\n",
       "      <td>Movie</td>\n",
       "      <td>Henri Salvador</td>\n",
       "      <td>Dis-moi Monsieur Gordon Cooper</td>\n",
       "      <td>0Gc6TVm52BwZD07Ki6tIvf</td>\n",
       "      <td>0</td>\n",
       "      <td>0.703</td>\n",
       "      <td>0.240</td>\n",
       "      <td>152427</td>\n",
       "      <td>0.326</td>\n",
       "      <td>0.000</td>\n",
       "      <td>C#</td>\n",
       "      <td>0.0985</td>\n",
       "      <td>-12.178</td>\n",
       "      <td>Major</td>\n",
       "      <td>0.0395</td>\n",
       "      <td>171.758</td>\n",
       "      <td>4/4</td>\n",
       "      <td>0.227</td>\n",
       "    </tr>\n",
       "    <tr>\n",
       "      <th>4</th>\n",
       "      <td>Movie</td>\n",
       "      <td>Fabien Nataf</td>\n",
       "      <td>Ouverture</td>\n",
       "      <td>0IuslXpMROHdEPvSl1fTQK</td>\n",
       "      <td>4</td>\n",
       "      <td>0.950</td>\n",
       "      <td>0.331</td>\n",
       "      <td>82625</td>\n",
       "      <td>0.225</td>\n",
       "      <td>0.123</td>\n",
       "      <td>F</td>\n",
       "      <td>0.2020</td>\n",
       "      <td>-21.150</td>\n",
       "      <td>Major</td>\n",
       "      <td>0.0456</td>\n",
       "      <td>140.576</td>\n",
       "      <td>4/4</td>\n",
       "      <td>0.390</td>\n",
       "    </tr>\n",
       "  </tbody>\n",
       "</table>\n",
       "</div>"
      ],
      "text/plain": [
       "   genre        artist_name                        track_name  \\\n",
       "0  Movie     Henri Salvador       C'est beau de faire un Show   \n",
       "1  Movie  Martin & les fées  Perdu d'avance (par Gad Elmaleh)   \n",
       "2  Movie    Joseph Williams    Don't Let Me Be Lonely Tonight   \n",
       "3  Movie     Henri Salvador    Dis-moi Monsieur Gordon Cooper   \n",
       "4  Movie       Fabien Nataf                         Ouverture   \n",
       "\n",
       "                 track_id  popularity  acousticness  danceability  \\\n",
       "0  0BRjO6ga9RKCKjfDqeFgWV           0         0.611         0.389   \n",
       "1  0BjC1NfoEOOusryehmNudP           1         0.246         0.590   \n",
       "2  0CoSDzoNIKCRs124s9uTVy           3         0.952         0.663   \n",
       "3  0Gc6TVm52BwZD07Ki6tIvf           0         0.703         0.240   \n",
       "4  0IuslXpMROHdEPvSl1fTQK           4         0.950         0.331   \n",
       "\n",
       "   duration_ms  energy  instrumentalness key  liveness  loudness   mode  \\\n",
       "0        99373   0.910             0.000  C#    0.3460    -1.828  Major   \n",
       "1       137373   0.737             0.000  F#    0.1510    -5.559  Minor   \n",
       "2       170267   0.131             0.000   C    0.1030   -13.879  Minor   \n",
       "3       152427   0.326             0.000  C#    0.0985   -12.178  Major   \n",
       "4        82625   0.225             0.123   F    0.2020   -21.150  Major   \n",
       "\n",
       "   speechiness    tempo time_signature  valence  \n",
       "0       0.0525  166.969            4/4    0.814  \n",
       "1       0.0868  174.003            4/4    0.816  \n",
       "2       0.0362   99.488            5/4    0.368  \n",
       "3       0.0395  171.758            4/4    0.227  \n",
       "4       0.0456  140.576            4/4    0.390  "
      ]
     },
     "execution_count": 86,
     "metadata": {},
     "output_type": "execute_result"
    }
   ],
   "source": [
    "df = pd.read_csv('SpotifyFeatures.csv')\n",
    "df.head()"
   ]
  },
  {
   "cell_type": "code",
   "execution_count": 88,
   "metadata": {},
   "outputs": [
    {
     "data": {
      "text/plain": [
       "53736"
      ]
     },
     "execution_count": 88,
     "metadata": {},
     "output_type": "execute_result"
    }
   ],
   "source": [
    "df = df[df['popularity']>55]\n",
    "len(df)"
   ]
  },
  {
   "cell_type": "code",
   "execution_count": 89,
   "metadata": {},
   "outputs": [
    {
     "data": {
      "text/plain": [
       "24826"
      ]
     },
     "execution_count": 89,
     "metadata": {},
     "output_type": "execute_result"
    }
   ],
   "source": [
    "df = df[~df.duplicated(subset= ['track_name','artist_name' ])]\n",
    "len(df)"
   ]
  },
  {
   "cell_type": "code",
   "execution_count": 90,
   "metadata": {},
   "outputs": [
    {
     "data": {
      "text/plain": [
       "Index(['genre', 'artist_name', 'track_name', 'track_id', 'popularity',\n",
       "       'acousticness', 'danceability', 'duration_ms', 'energy',\n",
       "       'instrumentalness', 'key', 'liveness', 'loudness', 'mode',\n",
       "       'speechiness', 'tempo', 'time_signature', 'valence'],\n",
       "      dtype='object')"
      ]
     },
     "execution_count": 90,
     "metadata": {},
     "output_type": "execute_result"
    }
   ],
   "source": [
    "df.columns"
   ]
  },
  {
   "cell_type": "code",
   "execution_count": 91,
   "metadata": {},
   "outputs": [],
   "source": [
    "# df.describe()"
   ]
  },
  {
   "cell_type": "code",
   "execution_count": 92,
   "metadata": {},
   "outputs": [],
   "source": [
    "df = df[[ 'track_name', 'genre', 'artist_name', 'popularity',\n",
    "       'acousticness', 'danceability', 'duration_ms', 'energy',\n",
    "       'instrumentalness', 'liveness', 'loudness', 'mode',\n",
    "       'speechiness', 'tempo', 'valence']]\n",
    "df['duration_ms'] = df['duration_ms'] //1000\n",
    "df.rename(columns={\"duration_ms\": \"duration_sec\"}, inplace=True)\n",
    "#df.head()"
   ]
  },
  {
   "cell_type": "code",
   "execution_count": 93,
   "metadata": {},
   "outputs": [],
   "source": [
    "def numbers_normalised(df, col_list):\n",
    "    for col in col_list:\n",
    "        maxx = df[col].max()\n",
    "        minn = df[col].min()\n",
    "        df[col] = round((df[col] - minn) / (maxx - minn), 3) \n",
    "\n",
    "numbers_normalised(df, ['popularity', 'loudness', 'duration_sec', 'tempo'])"
   ]
  },
  {
   "cell_type": "code",
   "execution_count": 94,
   "metadata": {},
   "outputs": [],
   "source": [
    "# df[df['loudness']==3.744000]"
   ]
  },
  {
   "cell_type": "code",
   "execution_count": 95,
   "metadata": {},
   "outputs": [],
   "source": [
    "le = LabelEncoder()\n",
    "df['mode'] = le.fit_transform(df['mode'])"
   ]
  },
  {
   "cell_type": "code",
   "execution_count": 96,
   "metadata": {},
   "outputs": [
    {
     "data": {
      "text/html": [
       "<div>\n",
       "<style scoped>\n",
       "    .dataframe tbody tr th:only-of-type {\n",
       "        vertical-align: middle;\n",
       "    }\n",
       "\n",
       "    .dataframe tbody tr th {\n",
       "        vertical-align: top;\n",
       "    }\n",
       "\n",
       "    .dataframe thead th {\n",
       "        text-align: right;\n",
       "    }\n",
       "</style>\n",
       "<table border=\"1\" class=\"dataframe\">\n",
       "  <thead>\n",
       "    <tr style=\"text-align: right;\">\n",
       "      <th></th>\n",
       "      <th>track_name</th>\n",
       "      <th>genre</th>\n",
       "      <th>artist_name</th>\n",
       "      <th>popularity</th>\n",
       "      <th>acousticness</th>\n",
       "      <th>danceability</th>\n",
       "      <th>duration_sec</th>\n",
       "      <th>energy</th>\n",
       "      <th>instrumentalness</th>\n",
       "      <th>liveness</th>\n",
       "      <th>loudness</th>\n",
       "      <th>mode</th>\n",
       "      <th>speechiness</th>\n",
       "      <th>tempo</th>\n",
       "      <th>valence</th>\n",
       "    </tr>\n",
       "  </thead>\n",
       "  <tbody>\n",
       "    <tr>\n",
       "      <th>135</th>\n",
       "      <td>Be Without You - Kendu Mix</td>\n",
       "      <td>R&amp;B</td>\n",
       "      <td>Mary J. Blige</td>\n",
       "      <td>0.205</td>\n",
       "      <td>0.0830</td>\n",
       "      <td>0.724</td>\n",
       "      <td>0.156</td>\n",
       "      <td>0.689</td>\n",
       "      <td>0.000000</td>\n",
       "      <td>0.3040</td>\n",
       "      <td>0.832</td>\n",
       "      <td>1</td>\n",
       "      <td>0.1350</td>\n",
       "      <td>0.607</td>\n",
       "      <td>0.6930</td>\n",
       "    </tr>\n",
       "    <tr>\n",
       "      <th>136</th>\n",
       "      <td>Desperado</td>\n",
       "      <td>R&amp;B</td>\n",
       "      <td>Rihanna</td>\n",
       "      <td>0.159</td>\n",
       "      <td>0.3230</td>\n",
       "      <td>0.685</td>\n",
       "      <td>0.112</td>\n",
       "      <td>0.610</td>\n",
       "      <td>0.000000</td>\n",
       "      <td>0.1020</td>\n",
       "      <td>0.848</td>\n",
       "      <td>1</td>\n",
       "      <td>0.0439</td>\n",
       "      <td>0.320</td>\n",
       "      <td>0.3230</td>\n",
       "    </tr>\n",
       "    <tr>\n",
       "      <th>137</th>\n",
       "      <td>Ice On My Baby (feat. Kevin Gates) - Remix</td>\n",
       "      <td>R&amp;B</td>\n",
       "      <td>Yung Bleu</td>\n",
       "      <td>0.136</td>\n",
       "      <td>0.0675</td>\n",
       "      <td>0.762</td>\n",
       "      <td>0.122</td>\n",
       "      <td>0.520</td>\n",
       "      <td>0.000004</td>\n",
       "      <td>0.1140</td>\n",
       "      <td>0.848</td>\n",
       "      <td>1</td>\n",
       "      <td>0.0959</td>\n",
       "      <td>0.214</td>\n",
       "      <td>0.0862</td>\n",
       "    </tr>\n",
       "    <tr>\n",
       "      <th>138</th>\n",
       "      <td>Heaven Falls / Fall on Me</td>\n",
       "      <td>R&amp;B</td>\n",
       "      <td>Surfaces</td>\n",
       "      <td>0.114</td>\n",
       "      <td>0.3600</td>\n",
       "      <td>0.563</td>\n",
       "      <td>0.151</td>\n",
       "      <td>0.366</td>\n",
       "      <td>0.002430</td>\n",
       "      <td>0.0955</td>\n",
       "      <td>0.809</td>\n",
       "      <td>1</td>\n",
       "      <td>0.1210</td>\n",
       "      <td>0.271</td>\n",
       "      <td>0.7680</td>\n",
       "    </tr>\n",
       "    <tr>\n",
       "      <th>139</th>\n",
       "      <td>Love Myself</td>\n",
       "      <td>R&amp;B</td>\n",
       "      <td>Olivia O'Brien</td>\n",
       "      <td>0.273</td>\n",
       "      <td>0.5960</td>\n",
       "      <td>0.653</td>\n",
       "      <td>0.132</td>\n",
       "      <td>0.621</td>\n",
       "      <td>0.000000</td>\n",
       "      <td>0.0811</td>\n",
       "      <td>0.836</td>\n",
       "      <td>1</td>\n",
       "      <td>0.0409</td>\n",
       "      <td>0.351</td>\n",
       "      <td>0.4660</td>\n",
       "    </tr>\n",
       "  </tbody>\n",
       "</table>\n",
       "</div>"
      ],
      "text/plain": [
       "                                     track_name genre     artist_name  \\\n",
       "135                  Be Without You - Kendu Mix   R&B   Mary J. Blige   \n",
       "136                                   Desperado   R&B         Rihanna   \n",
       "137  Ice On My Baby (feat. Kevin Gates) - Remix   R&B       Yung Bleu   \n",
       "138                   Heaven Falls / Fall on Me   R&B        Surfaces   \n",
       "139                                 Love Myself   R&B  Olivia O'Brien   \n",
       "\n",
       "     popularity  acousticness  danceability  duration_sec  energy  \\\n",
       "135       0.205        0.0830         0.724         0.156   0.689   \n",
       "136       0.159        0.3230         0.685         0.112   0.610   \n",
       "137       0.136        0.0675         0.762         0.122   0.520   \n",
       "138       0.114        0.3600         0.563         0.151   0.366   \n",
       "139       0.273        0.5960         0.653         0.132   0.621   \n",
       "\n",
       "     instrumentalness  liveness  loudness  mode  speechiness  tempo  valence  \n",
       "135          0.000000    0.3040     0.832     1       0.1350  0.607   0.6930  \n",
       "136          0.000000    0.1020     0.848     1       0.0439  0.320   0.3230  \n",
       "137          0.000004    0.1140     0.848     1       0.0959  0.214   0.0862  \n",
       "138          0.002430    0.0955     0.809     1       0.1210  0.271   0.7680  \n",
       "139          0.000000    0.0811     0.836     1       0.0409  0.351   0.4660  "
      ]
     },
     "execution_count": 96,
     "metadata": {},
     "output_type": "execute_result"
    }
   ],
   "source": [
    "df.head()"
   ]
  },
  {
   "cell_type": "code",
   "execution_count": 97,
   "metadata": {},
   "outputs": [
    {
     "data": {
      "text/plain": [
       "135    5.633000\n",
       "136    4.684900\n",
       "137    4.101604\n",
       "138    4.734930\n",
       "139    5.323000\n",
       "Name: numerical, dtype: float64"
      ]
     },
     "execution_count": 97,
     "metadata": {},
     "output_type": "execute_result"
    }
   ],
   "source": [
    "df['numerical'] =  df[['acousticness',\n",
    "       'danceability', 'duration_sec', 'energy', 'instrumentalness',\n",
    "       'liveness', 'loudness', 'mode', 'speechiness', 'tempo',\n",
    "        'valence']].sum(axis=1) + df['popularity']*2\n",
    "df['numerical'].head()"
   ]
  },
  {
   "cell_type": "code",
   "execution_count": 98,
   "metadata": {},
   "outputs": [
    {
     "data": {
      "text/plain": [
       "135     Mary J. Blige R&B\n",
       "136           Rihanna R&B\n",
       "137         Yung Bleu R&B\n",
       "138          Surfaces R&B\n",
       "139    Olivia O'Brien R&B\n",
       "Name: textual, dtype: object"
      ]
     },
     "execution_count": 98,
     "metadata": {},
     "output_type": "execute_result"
    }
   ],
   "source": [
    "# Processing text data\n",
    "df['textual'] = df['artist_name'] + \" \" + df['genre']\n",
    "df['textual'].head()"
   ]
  },
  {
   "cell_type": "code",
   "execution_count": 99,
   "metadata": {},
   "outputs": [
    {
     "data": {
      "text/html": [
       "<div>\n",
       "<style scoped>\n",
       "    .dataframe tbody tr th:only-of-type {\n",
       "        vertical-align: middle;\n",
       "    }\n",
       "\n",
       "    .dataframe tbody tr th {\n",
       "        vertical-align: top;\n",
       "    }\n",
       "\n",
       "    .dataframe thead th {\n",
       "        text-align: right;\n",
       "    }\n",
       "</style>\n",
       "<table border=\"1\" class=\"dataframe\">\n",
       "  <thead>\n",
       "    <tr style=\"text-align: right;\">\n",
       "      <th></th>\n",
       "      <th>track_name</th>\n",
       "      <th>textual</th>\n",
       "      <th>numerical</th>\n",
       "    </tr>\n",
       "  </thead>\n",
       "  <tbody>\n",
       "    <tr>\n",
       "      <th>0</th>\n",
       "      <td>Be Without You - Kendu Mix</td>\n",
       "      <td>Mary J. Blige R&amp;B</td>\n",
       "      <td>5.633000</td>\n",
       "    </tr>\n",
       "    <tr>\n",
       "      <th>1</th>\n",
       "      <td>Desperado</td>\n",
       "      <td>Rihanna R&amp;B</td>\n",
       "      <td>4.684900</td>\n",
       "    </tr>\n",
       "    <tr>\n",
       "      <th>2</th>\n",
       "      <td>Ice On My Baby (feat. Kevin Gates) - Remix</td>\n",
       "      <td>Yung Bleu R&amp;B</td>\n",
       "      <td>4.101604</td>\n",
       "    </tr>\n",
       "    <tr>\n",
       "      <th>3</th>\n",
       "      <td>Heaven Falls / Fall on Me</td>\n",
       "      <td>Surfaces R&amp;B</td>\n",
       "      <td>4.734930</td>\n",
       "    </tr>\n",
       "    <tr>\n",
       "      <th>4</th>\n",
       "      <td>Love Myself</td>\n",
       "      <td>Olivia O'Brien R&amp;B</td>\n",
       "      <td>5.323000</td>\n",
       "    </tr>\n",
       "  </tbody>\n",
       "</table>\n",
       "</div>"
      ],
      "text/plain": [
       "                                   track_name             textual  numerical\n",
       "0                  Be Without You - Kendu Mix   Mary J. Blige R&B   5.633000\n",
       "1                                   Desperado         Rihanna R&B   4.684900\n",
       "2  Ice On My Baby (feat. Kevin Gates) - Remix       Yung Bleu R&B   4.101604\n",
       "3                   Heaven Falls / Fall on Me        Surfaces R&B   4.734930\n",
       "4                                 Love Myself  Olivia O'Brien R&B   5.323000"
      ]
     },
     "execution_count": 99,
     "metadata": {},
     "output_type": "execute_result"
    }
   ],
   "source": [
    "final_df = df[['track_name', 'textual', 'numerical']]\n",
    "#final_df.head()\n",
    "final_df.reset_index(level=None, drop=True, inplace=True, col_level=0, col_fill='')\n",
    "final_df.head()"
   ]
  },
  {
   "cell_type": "code",
   "execution_count": 100,
   "metadata": {},
   "outputs": [],
   "source": [
    "from sklearn.feature_extraction.text import CountVectorizer\n",
    "from sklearn.metrics.pairwise import cosine_similarity"
   ]
  },
  {
   "cell_type": "code",
   "execution_count": 101,
   "metadata": {},
   "outputs": [],
   "source": [
    "cv = CountVectorizer() #ngram_range=(1,1)\n",
    "text_vectorised = cv.fit_transform(final_df['textual']).toarray()\n",
    "#cv.vocabulary_"
   ]
  },
  {
   "cell_type": "code",
   "execution_count": 102,
   "metadata": {},
   "outputs": [],
   "source": [
    "cos_sim = cosine_similarity(text_vectorised,text_vectorised)"
   ]
  },
  {
   "cell_type": "code",
   "execution_count": 103,
   "metadata": {
    "scrolled": false
   },
   "outputs": [
    {
     "data": {
      "text/html": [
       "<div>\n",
       "<style scoped>\n",
       "    .dataframe tbody tr th:only-of-type {\n",
       "        vertical-align: middle;\n",
       "    }\n",
       "\n",
       "    .dataframe tbody tr th {\n",
       "        vertical-align: top;\n",
       "    }\n",
       "\n",
       "    .dataframe thead th {\n",
       "        text-align: right;\n",
       "    }\n",
       "</style>\n",
       "<table border=\"1\" class=\"dataframe\">\n",
       "  <thead>\n",
       "    <tr style=\"text-align: right;\">\n",
       "      <th></th>\n",
       "      <th>track_name</th>\n",
       "      <th>textual</th>\n",
       "      <th>numerical</th>\n",
       "    </tr>\n",
       "  </thead>\n",
       "  <tbody>\n",
       "    <tr>\n",
       "      <th>15505</th>\n",
       "      <td>hate u love u</td>\n",
       "      <td>Olivia O'Brien Indie</td>\n",
       "      <td>5.799200</td>\n",
       "    </tr>\n",
       "    <tr>\n",
       "      <th>2301</th>\n",
       "      <td>Love Myself</td>\n",
       "      <td>Hailee Steinfeld Dance</td>\n",
       "      <td>5.567300</td>\n",
       "    </tr>\n",
       "    <tr>\n",
       "      <th>3880</th>\n",
       "      <td>Care Less More</td>\n",
       "      <td>Olivia O'Brien Dance</td>\n",
       "      <td>5.649000</td>\n",
       "    </tr>\n",
       "    <tr>\n",
       "      <th>4</th>\n",
       "      <td>Love Myself</td>\n",
       "      <td>Olivia O'Brien R&amp;B</td>\n",
       "      <td>5.323000</td>\n",
       "    </tr>\n",
       "    <tr>\n",
       "      <th>5685</th>\n",
       "      <td>UDK</td>\n",
       "      <td>Olivia O'Brien Dance</td>\n",
       "      <td>5.297501</td>\n",
       "    </tr>\n",
       "    <tr>\n",
       "      <th>2527</th>\n",
       "      <td>Back to Life - from \"Bumblebee\"</td>\n",
       "      <td>Hailee Steinfeld Dance</td>\n",
       "      <td>5.103400</td>\n",
       "    </tr>\n",
       "    <tr>\n",
       "      <th>2805</th>\n",
       "      <td>Fuck Feelings</td>\n",
       "      <td>Olivia O'Brien Dance</td>\n",
       "      <td>5.122300</td>\n",
       "    </tr>\n",
       "    <tr>\n",
       "      <th>2022</th>\n",
       "      <td>Starving</td>\n",
       "      <td>Hailee Steinfeld Dance</td>\n",
       "      <td>4.912700</td>\n",
       "    </tr>\n",
       "    <tr>\n",
       "      <th>3563</th>\n",
       "      <td>I Don't Exist</td>\n",
       "      <td>Olivia O'Brien Dance</td>\n",
       "      <td>5.059200</td>\n",
       "    </tr>\n",
       "    <tr>\n",
       "      <th>4642</th>\n",
       "      <td>RIP</td>\n",
       "      <td>Olivia O'Brien Dance</td>\n",
       "      <td>4.965002</td>\n",
       "    </tr>\n",
       "  </tbody>\n",
       "</table>\n",
       "</div>"
      ],
      "text/plain": [
       "                            track_name                 textual  numerical\n",
       "15505                    hate u love u    Olivia O'Brien Indie   5.799200\n",
       "2301                       Love Myself  Hailee Steinfeld Dance   5.567300\n",
       "3880                    Care Less More    Olivia O'Brien Dance   5.649000\n",
       "4                          Love Myself      Olivia O'Brien R&B   5.323000\n",
       "5685                               UDK    Olivia O'Brien Dance   5.297501\n",
       "2527   Back to Life - from \"Bumblebee\"  Hailee Steinfeld Dance   5.103400\n",
       "2805                     Fuck Feelings    Olivia O'Brien Dance   5.122300\n",
       "2022                          Starving  Hailee Steinfeld Dance   4.912700\n",
       "3563                     I Don't Exist    Olivia O'Brien Dance   5.059200\n",
       "4642                               RIP    Olivia O'Brien Dance   4.965002"
      ]
     },
     "execution_count": 103,
     "metadata": {},
     "output_type": "execute_result"
    }
   ],
   "source": [
    "song = 'Love Myself'\n",
    "song_idx = final_df[final_df['track_name'] == song].index\n",
    "all_top_10 = [] #pd.Series(np.zeros((len(song_idx)*10)))\n",
    "count = 0\n",
    "x = pd.Series()\n",
    "\n",
    "for idx in song_idx:\n",
    "    \n",
    "    #print(idx)\n",
    "    text_10 = pd.Series(cos_sim[idx]).sort_values(ascending=False)[:10]\n",
    "    text_idx = text_10.index\n",
    "    text_recom = (text_10 + final_df['numerical'].loc[text_idx]).sort_values(ascending=False)\n",
    "    x = pd.concat((x, text_recom), axis=0).sort_values(ascending=False)\n",
    "    #all_top_10.append(text_recom)\n",
    "final_idx = x[:10].index\n",
    "final_df.iloc[x[:10].index]"
   ]
  },
  {
   "cell_type": "code",
   "execution_count": 104,
   "metadata": {},
   "outputs": [],
   "source": [
    "# all_top_10 = pd.Series(np.zeros((len(song_idx)*10)))\n",
    "# all_top_10.shape"
   ]
  },
  {
   "cell_type": "code",
   "execution_count": null,
   "metadata": {},
   "outputs": [],
   "source": []
  },
  {
   "cell_type": "code",
   "execution_count": null,
   "metadata": {},
   "outputs": [],
   "source": []
  },
  {
   "cell_type": "code",
   "execution_count": null,
   "metadata": {},
   "outputs": [],
   "source": []
  }
 ],
 "metadata": {
  "kernelspec": {
   "display_name": "Python 3",
   "language": "python",
   "name": "python3"
  },
  "language_info": {
   "codemirror_mode": {
    "name": "ipython",
    "version": 3
   },
   "file_extension": ".py",
   "mimetype": "text/x-python",
   "name": "python",
   "nbconvert_exporter": "python",
   "pygments_lexer": "ipython3",
   "version": "3.7.0"
  }
 },
 "nbformat": 4,
 "nbformat_minor": 2
}
