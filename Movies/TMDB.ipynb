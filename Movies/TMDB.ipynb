{
 "cells": [
  {
   "cell_type": "code",
   "execution_count": 94,
   "metadata": {},
   "outputs": [],
   "source": [
    "import pandas as pd\n",
    "import numpy as np\n",
    "from nltk import *\n",
    "import re"
   ]
  },
  {
   "cell_type": "code",
   "execution_count": 95,
   "metadata": {
    "scrolled": false
   },
   "outputs": [],
   "source": [
    "df = pd.read_csv('tmdb_movies_data.csv')\n",
    "#df.head()"
   ]
  },
  {
   "cell_type": "code",
   "execution_count": 96,
   "metadata": {},
   "outputs": [],
   "source": [
    "# df.info()"
   ]
  },
  {
   "cell_type": "code",
   "execution_count": 97,
   "metadata": {},
   "outputs": [],
   "source": [
    "# df.columns"
   ]
  },
  {
   "cell_type": "code",
   "execution_count": 98,
   "metadata": {},
   "outputs": [],
   "source": [
    "df = df[['popularity', 'budget', 'revenue', 'original_title',\n",
    "       'cast', 'director', 'keywords', 'overview', 'genres', 'vote_average', 'imdb_id']]"
   ]
  },
  {
   "cell_type": "code",
   "execution_count": 99,
   "metadata": {},
   "outputs": [],
   "source": [
    "df['net_profit'] = df['revenue'] - df['budget']\n",
    "df = df.drop(['budget', 'revenue'], axis=1)"
   ]
  },
  {
   "cell_type": "code",
   "execution_count": 100,
   "metadata": {},
   "outputs": [],
   "source": [
    "def verticalBar_remover(df, col_name):\n",
    "    new = []\n",
    "    \n",
    "    for item in df[col_name]:\n",
    "        if type(item) != str:\n",
    "            item = str(item)\n",
    "        y = ''\n",
    "        for i in item.split('|'):\n",
    "            y = y + ' ' + i   #y = y + ',' + ' ' + i\n",
    "                 \n",
    "        new.append(y.strip())\n",
    "    #print(new)\n",
    "    df[col_name] = new\n"
   ]
  },
  {
   "cell_type": "code",
   "execution_count": 101,
   "metadata": {},
   "outputs": [],
   "source": [
    "clean_df = df\n",
    "for col_name in ['cast','director', 'keywords', 'genres']:\n",
    "    verticalBar_remover(clean_df, col_name)"
   ]
  },
  {
   "cell_type": "code",
   "execution_count": 102,
   "metadata": {},
   "outputs": [],
   "source": [
    "from sklearn.feature_extraction.text import CountVectorizer\n",
    "from sklearn.metrics.pairwise import cosine_similarity"
   ]
  },
  {
   "cell_type": "code",
   "execution_count": 103,
   "metadata": {},
   "outputs": [],
   "source": [
    "from nltk.corpus import stopwords \n",
    "\n",
    "def tokeniser(df, col):\n",
    "    sw = list(set(stopwords.words('english'))) + ['.', ',', '?']\n",
    "    li = []\n",
    "    for sentt in df[col]:\n",
    "        words = word_tokenize(str(sentt).lower())\n",
    "        words = [w for w in words if w not in sw]\n",
    "        final = ''\n",
    "        for x in words:\n",
    "            final = final + \" \" + x\n",
    "        li.append(final)\n",
    "    df[col] = li\n",
    "\n",
    "tokeniser(clean_df, 'overview')"
   ]
  },
  {
   "cell_type": "code",
   "execution_count": 104,
   "metadata": {},
   "outputs": [
    {
     "data": {
      "text/html": [
       "<div>\n",
       "<style scoped>\n",
       "    .dataframe tbody tr th:only-of-type {\n",
       "        vertical-align: middle;\n",
       "    }\n",
       "\n",
       "    .dataframe tbody tr th {\n",
       "        vertical-align: top;\n",
       "    }\n",
       "\n",
       "    .dataframe thead th {\n",
       "        text-align: right;\n",
       "    }\n",
       "</style>\n",
       "<table border=\"1\" class=\"dataframe\">\n",
       "  <thead>\n",
       "    <tr style=\"text-align: right;\">\n",
       "      <th></th>\n",
       "      <th>popularity</th>\n",
       "      <th>original_title</th>\n",
       "      <th>cast</th>\n",
       "      <th>director</th>\n",
       "      <th>keywords</th>\n",
       "      <th>overview</th>\n",
       "      <th>genres</th>\n",
       "      <th>vote_average</th>\n",
       "      <th>imdb_id</th>\n",
       "      <th>net_profit</th>\n",
       "    </tr>\n",
       "  </thead>\n",
       "  <tbody>\n",
       "    <tr>\n",
       "      <th>0</th>\n",
       "      <td>1.000</td>\n",
       "      <td>Jurassic World</td>\n",
       "      <td>Chris Pratt Bryce Dallas Howard Irrfan Khan Vi...</td>\n",
       "      <td>Colin Trevorrow</td>\n",
       "      <td>monster dna tyrannosaurus rex velociraptor island</td>\n",
       "      <td>twenty-two years events jurassic park isla nu...</td>\n",
       "      <td>Action Adventure Science Fiction Thriller</td>\n",
       "      <td>0.649</td>\n",
       "      <td>tt0369610</td>\n",
       "      <td>0.601</td>\n",
       "    </tr>\n",
       "    <tr>\n",
       "      <th>1</th>\n",
       "      <td>0.862</td>\n",
       "      <td>Mad Max: Fury Road</td>\n",
       "      <td>Tom Hardy Charlize Theron Hugh Keays-Byrne Nic...</td>\n",
       "      <td>George Miller</td>\n",
       "      <td>future chase post-apocalyptic dystopia australia</td>\n",
       "      <td>apocalyptic story set furthest reaches planet...</td>\n",
       "      <td>Action Adventure Science Fiction Thriller</td>\n",
       "      <td>0.727</td>\n",
       "      <td>tt1392190</td>\n",
       "      <td>0.217</td>\n",
       "    </tr>\n",
       "    <tr>\n",
       "      <th>2</th>\n",
       "      <td>0.398</td>\n",
       "      <td>Insurgent</td>\n",
       "      <td>Shailene Woodley Theo James Kate Winslet Ansel...</td>\n",
       "      <td>Robert Schwentke</td>\n",
       "      <td>based on novel revolution dystopia sequel dyst...</td>\n",
       "      <td>beatrice prior must confront inner demons con...</td>\n",
       "      <td>Adventure Science Fiction Thriller</td>\n",
       "      <td>0.623</td>\n",
       "      <td>tt2908446</td>\n",
       "      <td>0.203</td>\n",
       "    </tr>\n",
       "    <tr>\n",
       "      <th>3</th>\n",
       "      <td>0.339</td>\n",
       "      <td>Star Wars: The Force Awakens</td>\n",
       "      <td>Harrison Ford Mark Hamill Carrie Fisher Adam D...</td>\n",
       "      <td>J.J. Abrams</td>\n",
       "      <td>android spaceship jedi space opera 3d</td>\n",
       "      <td>thirty years defeating galactic empire han so...</td>\n",
       "      <td>Action Adventure Science Fiction Fantasy</td>\n",
       "      <td>0.779</td>\n",
       "      <td>tt2488496</td>\n",
       "      <td>0.771</td>\n",
       "    </tr>\n",
       "    <tr>\n",
       "      <th>4</th>\n",
       "      <td>0.283</td>\n",
       "      <td>Furious 7</td>\n",
       "      <td>Vin Diesel Paul Walker Jason Statham Michelle ...</td>\n",
       "      <td>James Wan</td>\n",
       "      <td>car race speed revenge suspense car</td>\n",
       "      <td>deckard shaw seeks revenge dominic toretto fa...</td>\n",
       "      <td>Action Crime Thriller</td>\n",
       "      <td>0.753</td>\n",
       "      <td>tt2820852</td>\n",
       "      <td>0.585</td>\n",
       "    </tr>\n",
       "  </tbody>\n",
       "</table>\n",
       "</div>"
      ],
      "text/plain": [
       "   popularity                original_title  \\\n",
       "0       1.000                Jurassic World   \n",
       "1       0.862            Mad Max: Fury Road   \n",
       "2       0.398                     Insurgent   \n",
       "3       0.339  Star Wars: The Force Awakens   \n",
       "4       0.283                     Furious 7   \n",
       "\n",
       "                                                cast          director  \\\n",
       "0  Chris Pratt Bryce Dallas Howard Irrfan Khan Vi...   Colin Trevorrow   \n",
       "1  Tom Hardy Charlize Theron Hugh Keays-Byrne Nic...     George Miller   \n",
       "2  Shailene Woodley Theo James Kate Winslet Ansel...  Robert Schwentke   \n",
       "3  Harrison Ford Mark Hamill Carrie Fisher Adam D...       J.J. Abrams   \n",
       "4  Vin Diesel Paul Walker Jason Statham Michelle ...         James Wan   \n",
       "\n",
       "                                            keywords  \\\n",
       "0  monster dna tyrannosaurus rex velociraptor island   \n",
       "1   future chase post-apocalyptic dystopia australia   \n",
       "2  based on novel revolution dystopia sequel dyst...   \n",
       "3              android spaceship jedi space opera 3d   \n",
       "4                car race speed revenge suspense car   \n",
       "\n",
       "                                            overview  \\\n",
       "0   twenty-two years events jurassic park isla nu...   \n",
       "1   apocalyptic story set furthest reaches planet...   \n",
       "2   beatrice prior must confront inner demons con...   \n",
       "3   thirty years defeating galactic empire han so...   \n",
       "4   deckard shaw seeks revenge dominic toretto fa...   \n",
       "\n",
       "                                      genres  vote_average    imdb_id  \\\n",
       "0  Action Adventure Science Fiction Thriller         0.649  tt0369610   \n",
       "1  Action Adventure Science Fiction Thriller         0.727  tt1392190   \n",
       "2         Adventure Science Fiction Thriller         0.623  tt2908446   \n",
       "3   Action Adventure Science Fiction Fantasy         0.779  tt2488496   \n",
       "4                      Action Crime Thriller         0.753  tt2820852   \n",
       "\n",
       "   net_profit  \n",
       "0       0.601  \n",
       "1       0.217  \n",
       "2       0.203  \n",
       "3       0.771  \n",
       "4       0.585  "
      ]
     },
     "execution_count": 104,
     "metadata": {},
     "output_type": "execute_result"
    }
   ],
   "source": [
    "def numbers_normalised(df, col_list):\n",
    "    for col in col_list:\n",
    "        maxx = df[col].max()\n",
    "        minn = df[col].min()\n",
    "        df[col] = round((df[col] - minn) / (maxx - minn), 3) \n",
    "    return df.head()\n",
    "\n",
    "numbers_normalised(clean_df, ['popularity', 'vote_average', 'net_profit' ])"
   ]
  },
  {
   "cell_type": "code",
   "execution_count": 121,
   "metadata": {},
   "outputs": [],
   "source": [
    "clean_df['final_numeric_weights'] = clean_df['popularity'] + clean_df['vote_average'] + clean_df['net_profit']"
   ]
  },
  {
   "cell_type": "code",
   "execution_count": 122,
   "metadata": {},
   "outputs": [
    {
     "data": {
      "text/html": [
       "<div>\n",
       "<style scoped>\n",
       "    .dataframe tbody tr th:only-of-type {\n",
       "        vertical-align: middle;\n",
       "    }\n",
       "\n",
       "    .dataframe tbody tr th {\n",
       "        vertical-align: top;\n",
       "    }\n",
       "\n",
       "    .dataframe thead th {\n",
       "        text-align: right;\n",
       "    }\n",
       "</style>\n",
       "<table border=\"1\" class=\"dataframe\">\n",
       "  <thead>\n",
       "    <tr style=\"text-align: right;\">\n",
       "      <th></th>\n",
       "      <th>original_title</th>\n",
       "      <th>cast</th>\n",
       "      <th>director</th>\n",
       "      <th>keywords</th>\n",
       "      <th>genres</th>\n",
       "      <th>imdb_id</th>\n",
       "      <th>final_numeric_weights</th>\n",
       "    </tr>\n",
       "  </thead>\n",
       "  <tbody>\n",
       "    <tr>\n",
       "      <th>0</th>\n",
       "      <td>jurassic world</td>\n",
       "      <td>chris pratt bryce dallas howard irrfan khan vi...</td>\n",
       "      <td>colin trevorrow</td>\n",
       "      <td>monster dna tyrannosaurus rex velociraptor island</td>\n",
       "      <td>action adventure science fiction thriller</td>\n",
       "      <td>tt0369610</td>\n",
       "      <td>2.250</td>\n",
       "    </tr>\n",
       "    <tr>\n",
       "      <th>1</th>\n",
       "      <td>mad max: fury road</td>\n",
       "      <td>tom hardy charlize theron hugh keays-byrne nic...</td>\n",
       "      <td>george miller</td>\n",
       "      <td>future chase post-apocalyptic dystopia australia</td>\n",
       "      <td>action adventure science fiction thriller</td>\n",
       "      <td>tt1392190</td>\n",
       "      <td>1.806</td>\n",
       "    </tr>\n",
       "    <tr>\n",
       "      <th>2</th>\n",
       "      <td>insurgent</td>\n",
       "      <td>shailene woodley theo james kate winslet ansel...</td>\n",
       "      <td>robert schwentke</td>\n",
       "      <td>based on novel revolution dystopia sequel dyst...</td>\n",
       "      <td>adventure science fiction thriller</td>\n",
       "      <td>tt2908446</td>\n",
       "      <td>1.224</td>\n",
       "    </tr>\n",
       "    <tr>\n",
       "      <th>3</th>\n",
       "      <td>star wars: the force awakens</td>\n",
       "      <td>harrison ford mark hamill carrie fisher adam d...</td>\n",
       "      <td>j.j. abrams</td>\n",
       "      <td>android spaceship jedi space opera 3d</td>\n",
       "      <td>action adventure science fiction fantasy</td>\n",
       "      <td>tt2488496</td>\n",
       "      <td>1.889</td>\n",
       "    </tr>\n",
       "    <tr>\n",
       "      <th>4</th>\n",
       "      <td>furious 7</td>\n",
       "      <td>vin diesel paul walker jason statham michelle ...</td>\n",
       "      <td>james wan</td>\n",
       "      <td>car race speed revenge suspense car</td>\n",
       "      <td>action crime thriller</td>\n",
       "      <td>tt2820852</td>\n",
       "      <td>1.621</td>\n",
       "    </tr>\n",
       "  </tbody>\n",
       "</table>\n",
       "</div>"
      ],
      "text/plain": [
       "                 original_title  \\\n",
       "0                jurassic world   \n",
       "1            mad max: fury road   \n",
       "2                     insurgent   \n",
       "3  star wars: the force awakens   \n",
       "4                     furious 7   \n",
       "\n",
       "                                                cast          director  \\\n",
       "0  chris pratt bryce dallas howard irrfan khan vi...   colin trevorrow   \n",
       "1  tom hardy charlize theron hugh keays-byrne nic...     george miller   \n",
       "2  shailene woodley theo james kate winslet ansel...  robert schwentke   \n",
       "3  harrison ford mark hamill carrie fisher adam d...       j.j. abrams   \n",
       "4  vin diesel paul walker jason statham michelle ...         james wan   \n",
       "\n",
       "                                            keywords  \\\n",
       "0  monster dna tyrannosaurus rex velociraptor island   \n",
       "1   future chase post-apocalyptic dystopia australia   \n",
       "2  based on novel revolution dystopia sequel dyst...   \n",
       "3              android spaceship jedi space opera 3d   \n",
       "4                car race speed revenge suspense car   \n",
       "\n",
       "                                      genres    imdb_id  final_numeric_weights  \n",
       "0  action adventure science fiction thriller  tt0369610                  2.250  \n",
       "1  action adventure science fiction thriller  tt1392190                  1.806  \n",
       "2         adventure science fiction thriller  tt2908446                  1.224  \n",
       "3   action adventure science fiction fantasy  tt2488496                  1.889  \n",
       "4                      action crime thriller  tt2820852                  1.621  "
      ]
     },
     "execution_count": 122,
     "metadata": {},
     "output_type": "execute_result"
    }
   ],
   "source": [
    "# Left out overview from dataframe\n",
    "textual_df = clean_df[['original_title' , 'cast', 'director','keywords', 'genres', 'imdb_id']].apply(lambda x: x.astype(str).str.lower())\n",
    "numeric_df = clean_df['final_numeric_weights']\n",
    "#type(numeric_df['net_profit'][0])\n",
    "final_df = textual_df.merge(numeric_df, left_index=True, right_index=True)\n",
    "# final_df['text'] = final_df['cast'] + final_df['director'] + final_df['genres'] + final_df['keywords']\n",
    "# final_df = final_df[['text', 'popularity', 'vote_average', 'net_profit' ]]\n",
    "final_df.head()"
   ]
  },
  {
   "cell_type": "code",
   "execution_count": 47,
   "metadata": {},
   "outputs": [],
   "source": [
    "# All textual data in one col\n",
    "\n",
    "# df2 = final_df['text']\n",
    "# cv = CountVectorizer(ngram_range=(1,3))\n",
    "# text_vectorised = cv.fit_transform(df2).toarray()\n",
    "# cv.vocabulary_"
   ]
  },
  {
   "cell_type": "markdown",
   "metadata": {},
   "source": [
    "# Category wise vectorised"
   ]
  },
  {
   "cell_type": "code",
   "execution_count": 106,
   "metadata": {},
   "outputs": [],
   "source": [
    "#Genre Vectoriser\n",
    "cv = CountVectorizer(ngram_range=(1,1))\n",
    "genre_vectorised = cv.fit_transform(final_df['genres']).toarray()\n",
    "# Director Vectoriser\n",
    "cv2 = CountVectorizer(ngram_range=(2,3))\n",
    "director_vectorised = cv.fit_transform(final_df['director']).toarray()\n",
    "# Cast Vectoriser\n",
    "cv3 = CountVectorizer(ngram_range=(2,3))\n",
    "cast_vectorised = cv.fit_transform(final_df['cast']).toarray()\n",
    "\n",
    "#Cosine Similarities\n",
    "cos_sim_genre = cosine_similarity(genre_vectorised, genre_vectorised)\n",
    "cos_sim_director = cosine_similarity(director_vectorised, director_vectorised)\n",
    "cos_sim_cast = cosine_similarity(cast_vectorised, cast_vectorised)"
   ]
  },
  {
   "cell_type": "code",
   "execution_count": 49,
   "metadata": {},
   "outputs": [
    {
     "data": {
      "text/html": [
       "<div>\n",
       "<style scoped>\n",
       "    .dataframe tbody tr th:only-of-type {\n",
       "        vertical-align: middle;\n",
       "    }\n",
       "\n",
       "    .dataframe tbody tr th {\n",
       "        vertical-align: top;\n",
       "    }\n",
       "\n",
       "    .dataframe thead th {\n",
       "        text-align: right;\n",
       "    }\n",
       "</style>\n",
       "<table border=\"1\" class=\"dataframe\">\n",
       "  <thead>\n",
       "    <tr style=\"text-align: right;\">\n",
       "      <th></th>\n",
       "      <th>original_title</th>\n",
       "      <th>cast</th>\n",
       "      <th>director</th>\n",
       "      <th>keywords</th>\n",
       "      <th>genres</th>\n",
       "      <th>imdb_id</th>\n",
       "      <th>popularity</th>\n",
       "      <th>vote_average</th>\n",
       "      <th>net_profit</th>\n",
       "    </tr>\n",
       "  </thead>\n",
       "  <tbody>\n",
       "    <tr>\n",
       "      <th>1486</th>\n",
       "      <td>3 idiots</td>\n",
       "      <td>aamir khan kareena kapoor madhavan sharman jos...</td>\n",
       "      <td>rajkumar hirani</td>\n",
       "      <td>suicide suicide attempt college friends engine...</td>\n",
       "      <td>drama comedy romance</td>\n",
       "      <td>tt1187043</td>\n",
       "      <td>0.816681</td>\n",
       "      <td>7.8</td>\n",
       "      <td>61000000</td>\n",
       "    </tr>\n",
       "  </tbody>\n",
       "</table>\n",
       "</div>"
      ],
      "text/plain": [
       "     original_title                                               cast  \\\n",
       "1486       3 idiots  aamir khan kareena kapoor madhavan sharman jos...   \n",
       "\n",
       "             director                                           keywords  \\\n",
       "1486  rajkumar hirani  suicide suicide attempt college friends engine...   \n",
       "\n",
       "                    genres    imdb_id  popularity  vote_average  net_profit  \n",
       "1486  drama comedy romance  tt1187043    0.816681           7.8    61000000  "
      ]
     },
     "execution_count": 49,
     "metadata": {},
     "output_type": "execute_result"
    }
   ],
   "source": [
    "#final_df[final_df['original_title'] == '3 idiots']\n",
    "# list(final_df[final_df['director'] == 'colin trevorrow']['original_title'])"
   ]
  },
  {
   "cell_type": "markdown",
   "metadata": {},
   "source": [
    "# Adding weight of Numerical data like profit etc to cosine similarity to get an overall weight involving all factors"
   ]
  },
  {
   "cell_type": "code",
   "execution_count": 128,
   "metadata": {},
   "outputs": [
    {
     "data": {
      "text/plain": [
       "0    2.250\n",
       "1    1.806\n",
       "2    1.224\n",
       "Name: final_numeric_weights, dtype: float64"
      ]
     },
     "execution_count": 128,
     "metadata": {},
     "output_type": "execute_result"
    }
   ],
   "source": [
    "idx =  [0, 1 , 2]\n",
    "final_df['final_numeric_weights'].loc[idx]"
   ]
  },
  {
   "cell_type": "code",
   "execution_count": 200,
   "metadata": {},
   "outputs": [
    {
     "ename": "KeyError",
     "evalue": "\"None of [Float64Index([2.0039999999999996, 1.9979999999999998,              1.185,\\n                           1.049,              0.812,              0.724,\\n                           0.723,              0.685,              0.685,\\n                           0.528],\\n             dtype='float64')] are in the [index]\"",
     "output_type": "error",
     "traceback": [
      "\u001b[1;31m---------------------------------------------------------------------------\u001b[0m",
      "\u001b[1;31mKeyError\u001b[0m                                  Traceback (most recent call last)",
      "\u001b[1;32m<ipython-input-200-51ac970902f0>\u001b[0m in \u001b[0;36m<module>\u001b[1;34m\u001b[0m\n\u001b[0;32m     20\u001b[0m   \u001b[0mprint\u001b[0m\u001b[1;33m(\u001b[0m\u001b[0mfinal_df\u001b[0m\u001b[1;33m[\u001b[0m\u001b[1;34m'original_title'\u001b[0m\u001b[1;33m]\u001b[0m\u001b[1;33m.\u001b[0m\u001b[0mloc\u001b[0m\u001b[1;33m[\u001b[0m\u001b[0mfinal\u001b[0m\u001b[1;33m]\u001b[0m\u001b[1;33m[\u001b[0m\u001b[1;33m:\u001b[0m\u001b[1;36m10\u001b[0m\u001b[1;33m]\u001b[0m\u001b[1;33m)\u001b[0m\u001b[1;33m\u001b[0m\u001b[0m\n\u001b[0;32m     21\u001b[0m \u001b[1;33m\u001b[0m\u001b[0m\n\u001b[1;32m---> 22\u001b[1;33m \u001b[0mrecommendation\u001b[0m\u001b[1;33m(\u001b[0m\u001b[1;34m'3 idiots'\u001b[0m\u001b[1;33m)\u001b[0m\u001b[1;33m\u001b[0m\u001b[0m\n\u001b[0m",
      "\u001b[1;32m<ipython-input-200-51ac970902f0>\u001b[0m in \u001b[0;36mrecommendation\u001b[1;34m(movies)\u001b[0m\n\u001b[0;32m     15\u001b[0m   \u001b[0mdirector_idx\u001b[0m \u001b[1;33m=\u001b[0m \u001b[0mdirectors\u001b[0m\u001b[1;33m.\u001b[0m\u001b[0mindex\u001b[0m\u001b[1;33m\u001b[0m\u001b[0m\n\u001b[0;32m     16\u001b[0m   \u001b[0mdirector_recom_idx\u001b[0m \u001b[1;33m=\u001b[0m \u001b[1;33m(\u001b[0m\u001b[0mdirectors\u001b[0m \u001b[1;33m+\u001b[0m \u001b[0mfinal_df\u001b[0m\u001b[1;33m[\u001b[0m\u001b[1;34m'final_numeric_weights'\u001b[0m\u001b[1;33m]\u001b[0m\u001b[1;33m.\u001b[0m\u001b[0mloc\u001b[0m\u001b[1;33m[\u001b[0m\u001b[0mdirector_idx\u001b[0m\u001b[1;33m]\u001b[0m\u001b[1;33m)\u001b[0m\u001b[1;33m.\u001b[0m\u001b[0msort_values\u001b[0m\u001b[1;33m(\u001b[0m\u001b[0mascending\u001b[0m\u001b[1;33m=\u001b[0m\u001b[1;32mFalse\u001b[0m\u001b[1;33m)\u001b[0m\u001b[1;33m\u001b[0m\u001b[0m\n\u001b[1;32m---> 17\u001b[1;33m   \u001b[0mdirector_recom\u001b[0m \u001b[1;33m=\u001b[0m \u001b[0mfinal_df\u001b[0m\u001b[1;33m[\u001b[0m\u001b[1;34m'original_title'\u001b[0m\u001b[1;33m]\u001b[0m\u001b[1;33m.\u001b[0m\u001b[0mloc\u001b[0m\u001b[1;33m[\u001b[0m\u001b[0mdirector_recom_idx\u001b[0m\u001b[1;33m]\u001b[0m\u001b[1;33m\u001b[0m\u001b[0m\n\u001b[0m\u001b[0;32m     18\u001b[0m \u001b[1;33m\u001b[0m\u001b[0m\n\u001b[0;32m     19\u001b[0m   \u001b[0mfinal\u001b[0m \u001b[1;33m=\u001b[0m \u001b[0mpd\u001b[0m\u001b[1;33m.\u001b[0m\u001b[0mSeries\u001b[0m\u001b[1;33m(\u001b[0m\u001b[0mlist\u001b[0m\u001b[1;33m(\u001b[0m\u001b[0mcast_recom_idx\u001b[0m\u001b[1;33m)\u001b[0m \u001b[1;33m+\u001b[0m \u001b[0mlist\u001b[0m\u001b[1;33m(\u001b[0m\u001b[0mdirector_recom_idx\u001b[0m\u001b[1;33m)\u001b[0m \u001b[1;33m+\u001b[0m \u001b[0mlist\u001b[0m\u001b[1;33m(\u001b[0m\u001b[0mgenre_idx\u001b[0m\u001b[1;33m)\u001b[0m\u001b[1;33m)\u001b[0m\u001b[1;33m.\u001b[0m\u001b[0msort_values\u001b[0m\u001b[1;33m(\u001b[0m\u001b[0mascending\u001b[0m\u001b[1;33m=\u001b[0m\u001b[1;32mFalse\u001b[0m\u001b[1;33m)\u001b[0m\u001b[1;33m.\u001b[0m\u001b[0mindex\u001b[0m\u001b[1;33m\u001b[0m\u001b[0m\n",
      "\u001b[1;32mc:\\users\\sahaj oberoi\\appdata\\local\\programs\\python\\python37\\lib\\site-packages\\pandas\\core\\indexing.py\u001b[0m in \u001b[0;36m__getitem__\u001b[1;34m(self, key)\u001b[0m\n\u001b[0;32m   1498\u001b[0m \u001b[1;33m\u001b[0m\u001b[0m\n\u001b[0;32m   1499\u001b[0m             \u001b[0mmaybe_callable\u001b[0m \u001b[1;33m=\u001b[0m \u001b[0mcom\u001b[0m\u001b[1;33m.\u001b[0m\u001b[0mapply_if_callable\u001b[0m\u001b[1;33m(\u001b[0m\u001b[0mkey\u001b[0m\u001b[1;33m,\u001b[0m \u001b[0mself\u001b[0m\u001b[1;33m.\u001b[0m\u001b[0mobj\u001b[0m\u001b[1;33m)\u001b[0m\u001b[1;33m\u001b[0m\u001b[0m\n\u001b[1;32m-> 1500\u001b[1;33m             \u001b[1;32mreturn\u001b[0m \u001b[0mself\u001b[0m\u001b[1;33m.\u001b[0m\u001b[0m_getitem_axis\u001b[0m\u001b[1;33m(\u001b[0m\u001b[0mmaybe_callable\u001b[0m\u001b[1;33m,\u001b[0m \u001b[0maxis\u001b[0m\u001b[1;33m=\u001b[0m\u001b[0maxis\u001b[0m\u001b[1;33m)\u001b[0m\u001b[1;33m\u001b[0m\u001b[0m\n\u001b[0m\u001b[0;32m   1501\u001b[0m \u001b[1;33m\u001b[0m\u001b[0m\n\u001b[0;32m   1502\u001b[0m     \u001b[1;32mdef\u001b[0m \u001b[0m_is_scalar_access\u001b[0m\u001b[1;33m(\u001b[0m\u001b[0mself\u001b[0m\u001b[1;33m,\u001b[0m \u001b[0mkey\u001b[0m\u001b[1;33m)\u001b[0m\u001b[1;33m:\u001b[0m\u001b[1;33m\u001b[0m\u001b[0m\n",
      "\u001b[1;32mc:\\users\\sahaj oberoi\\appdata\\local\\programs\\python\\python37\\lib\\site-packages\\pandas\\core\\indexing.py\u001b[0m in \u001b[0;36m_getitem_axis\u001b[1;34m(self, key, axis)\u001b[0m\n\u001b[0;32m   1900\u001b[0m                     \u001b[1;32mraise\u001b[0m \u001b[0mValueError\u001b[0m\u001b[1;33m(\u001b[0m\u001b[1;34m'Cannot index with multidimensional key'\u001b[0m\u001b[1;33m)\u001b[0m\u001b[1;33m\u001b[0m\u001b[0m\n\u001b[0;32m   1901\u001b[0m \u001b[1;33m\u001b[0m\u001b[0m\n\u001b[1;32m-> 1902\u001b[1;33m                 \u001b[1;32mreturn\u001b[0m \u001b[0mself\u001b[0m\u001b[1;33m.\u001b[0m\u001b[0m_getitem_iterable\u001b[0m\u001b[1;33m(\u001b[0m\u001b[0mkey\u001b[0m\u001b[1;33m,\u001b[0m \u001b[0maxis\u001b[0m\u001b[1;33m=\u001b[0m\u001b[0maxis\u001b[0m\u001b[1;33m)\u001b[0m\u001b[1;33m\u001b[0m\u001b[0m\n\u001b[0m\u001b[0;32m   1903\u001b[0m \u001b[1;33m\u001b[0m\u001b[0m\n\u001b[0;32m   1904\u001b[0m             \u001b[1;31m# nested tuple slicing\u001b[0m\u001b[1;33m\u001b[0m\u001b[1;33m\u001b[0m\u001b[0m\n",
      "\u001b[1;32mc:\\users\\sahaj oberoi\\appdata\\local\\programs\\python\\python37\\lib\\site-packages\\pandas\\core\\indexing.py\u001b[0m in \u001b[0;36m_getitem_iterable\u001b[1;34m(self, key, axis)\u001b[0m\n\u001b[0;32m   1203\u001b[0m             \u001b[1;31m# A collection of keys\u001b[0m\u001b[1;33m\u001b[0m\u001b[1;33m\u001b[0m\u001b[0m\n\u001b[0;32m   1204\u001b[0m             keyarr, indexer = self._get_listlike_indexer(key, axis,\n\u001b[1;32m-> 1205\u001b[1;33m                                                          raise_missing=False)\n\u001b[0m\u001b[0;32m   1206\u001b[0m             return self.obj._reindex_with_indexers({axis: [keyarr, indexer]},\n\u001b[0;32m   1207\u001b[0m                                                    copy=True, allow_dups=True)\n",
      "\u001b[1;32mc:\\users\\sahaj oberoi\\appdata\\local\\programs\\python\\python37\\lib\\site-packages\\pandas\\core\\indexing.py\u001b[0m in \u001b[0;36m_get_listlike_indexer\u001b[1;34m(self, key, axis, raise_missing)\u001b[0m\n\u001b[0;32m   1159\u001b[0m         self._validate_read_indexer(keyarr, indexer,\n\u001b[0;32m   1160\u001b[0m                                     \u001b[0mo\u001b[0m\u001b[1;33m.\u001b[0m\u001b[0m_get_axis_number\u001b[0m\u001b[1;33m(\u001b[0m\u001b[0maxis\u001b[0m\u001b[1;33m)\u001b[0m\u001b[1;33m,\u001b[0m\u001b[1;33m\u001b[0m\u001b[0m\n\u001b[1;32m-> 1161\u001b[1;33m                                     raise_missing=raise_missing)\n\u001b[0m\u001b[0;32m   1162\u001b[0m         \u001b[1;32mreturn\u001b[0m \u001b[0mkeyarr\u001b[0m\u001b[1;33m,\u001b[0m \u001b[0mindexer\u001b[0m\u001b[1;33m\u001b[0m\u001b[0m\n\u001b[0;32m   1163\u001b[0m \u001b[1;33m\u001b[0m\u001b[0m\n",
      "\u001b[1;32mc:\\users\\sahaj oberoi\\appdata\\local\\programs\\python\\python37\\lib\\site-packages\\pandas\\core\\indexing.py\u001b[0m in \u001b[0;36m_validate_read_indexer\u001b[1;34m(self, key, indexer, axis, raise_missing)\u001b[0m\n\u001b[0;32m   1244\u001b[0m                 raise KeyError(\n\u001b[0;32m   1245\u001b[0m                     u\"None of [{key}] are in the [{axis}]\".format(\n\u001b[1;32m-> 1246\u001b[1;33m                         key=key, axis=self.obj._get_axis_name(axis)))\n\u001b[0m\u001b[0;32m   1247\u001b[0m \u001b[1;33m\u001b[0m\u001b[0m\n\u001b[0;32m   1248\u001b[0m             \u001b[1;31m# We (temporarily) allow for some missing keys with .loc, except in\u001b[0m\u001b[1;33m\u001b[0m\u001b[1;33m\u001b[0m\u001b[0m\n",
      "\u001b[1;31mKeyError\u001b[0m: \"None of [Float64Index([2.0039999999999996, 1.9979999999999998,              1.185,\\n                           1.049,              0.812,              0.724,\\n                           0.723,              0.685,              0.685,\\n                           0.528],\\n             dtype='float64')] are in the [index]\""
     ]
    }
   ],
   "source": [
    "  def recommendation(movies):\n",
    "    \n",
    "    idx = final_df[final_df['original_title'] == movies ].index\n",
    "    \n",
    "    casts = pd.Series(cos_sim_cast[idx][0]).sort_values(ascending=False)[:10]\n",
    "    cast_idx = casts.index \n",
    "    cast_recom_idx = (casts + final_df['final_numeric_weights'].loc[cast_idx]).sort_values(ascending=False)\n",
    "    #cast_recom = final_df['original_title'].loc[cast_recom_idx]\n",
    "    \n",
    "    genres = pd.Series(cos_sim_genre[idx][0]).sort_values(ascending=False)[:10]\n",
    "    genre_idx = genres.index\n",
    "    genre_recom = final_df['original_title'].loc[genre_idx]\n",
    "    \n",
    "    directors = pd.Series(cos_sim_director[idx][0]).sort_values(ascending=False)[:10]\n",
    "    director_idx = directors.index \n",
    "    director_recom_idx = (directors + final_df['final_numeric_weights'].loc[director_idx]).sort_values(ascending=False)\n",
    "    director_recom = final_df['original_title'].loc[director_recom_idx]\n",
    "    \n",
    "    final = pd.Series(list(cast_recom_idx) + list(director_recom_idx) + list(genre_idx)).sort_values(ascending=False).index\n",
    "    print(final_df['original_title'].loc[final][:10])\n",
    "    \n",
    "recommendation('3 idiots')"
   ]
  },
  {
   "cell_type": "code",
   "execution_count": 183,
   "metadata": {},
   "outputs": [
    {
     "data": {
      "text/html": [
       "<div>\n",
       "<style scoped>\n",
       "    .dataframe tbody tr th:only-of-type {\n",
       "        vertical-align: middle;\n",
       "    }\n",
       "\n",
       "    .dataframe tbody tr th {\n",
       "        vertical-align: top;\n",
       "    }\n",
       "\n",
       "    .dataframe thead th {\n",
       "        text-align: right;\n",
       "    }\n",
       "</style>\n",
       "<table border=\"1\" class=\"dataframe\">\n",
       "  <thead>\n",
       "    <tr style=\"text-align: right;\">\n",
       "      <th></th>\n",
       "      <th>original_title</th>\n",
       "      <th>cast</th>\n",
       "      <th>director</th>\n",
       "      <th>keywords</th>\n",
       "      <th>genres</th>\n",
       "      <th>imdb_id</th>\n",
       "      <th>final_numeric_weights</th>\n",
       "    </tr>\n",
       "  </thead>\n",
       "  <tbody>\n",
       "    <tr>\n",
       "      <th>6966</th>\n",
       "      <td>the notebook</td>\n",
       "      <td>rachel mcadams ryan gosling gena rowlands jame...</td>\n",
       "      <td>nick cassavetes</td>\n",
       "      <td>poem river sadness fight love of one's life</td>\n",
       "      <td>romance drama</td>\n",
       "      <td>tt0332280</td>\n",
       "      <td>1.052</td>\n",
       "    </tr>\n",
       "  </tbody>\n",
       "</table>\n",
       "</div>"
      ],
      "text/plain": [
       "     original_title                                               cast  \\\n",
       "6966   the notebook  rachel mcadams ryan gosling gena rowlands jame...   \n",
       "\n",
       "             director                                     keywords  \\\n",
       "6966  nick cassavetes  poem river sadness fight love of one's life   \n",
       "\n",
       "             genres    imdb_id  final_numeric_weights  \n",
       "6966  romance drama  tt0332280                  1.052  "
      ]
     },
     "execution_count": 183,
     "metadata": {},
     "output_type": "execute_result"
    }
   ],
   "source": [
    "final_df[final_df['original_title'] == 'the notebook']"
   ]
  },
  {
   "cell_type": "code",
   "execution_count": 184,
   "metadata": {},
   "outputs": [
    {
     "data": {
      "text/html": [
       "<div>\n",
       "<style scoped>\n",
       "    .dataframe tbody tr th:only-of-type {\n",
       "        vertical-align: middle;\n",
       "    }\n",
       "\n",
       "    .dataframe tbody tr th {\n",
       "        vertical-align: top;\n",
       "    }\n",
       "\n",
       "    .dataframe thead th {\n",
       "        text-align: right;\n",
       "    }\n",
       "</style>\n",
       "<table border=\"1\" class=\"dataframe\">\n",
       "  <thead>\n",
       "    <tr style=\"text-align: right;\">\n",
       "      <th></th>\n",
       "      <th>original_title</th>\n",
       "      <th>cast</th>\n",
       "      <th>director</th>\n",
       "      <th>keywords</th>\n",
       "      <th>genres</th>\n",
       "      <th>imdb_id</th>\n",
       "      <th>final_numeric_weights</th>\n",
       "    </tr>\n",
       "  </thead>\n",
       "  <tbody>\n",
       "    <tr>\n",
       "      <th>0</th>\n",
       "      <td>jurassic world</td>\n",
       "      <td>chris pratt bryce dallas howard irrfan khan vi...</td>\n",
       "      <td>colin trevorrow</td>\n",
       "      <td>monster dna tyrannosaurus rex velociraptor island</td>\n",
       "      <td>action adventure science fiction thriller</td>\n",
       "      <td>tt0369610</td>\n",
       "      <td>2.25</td>\n",
       "    </tr>\n",
       "  </tbody>\n",
       "</table>\n",
       "</div>"
      ],
      "text/plain": [
       "   original_title                                               cast  \\\n",
       "0  jurassic world  chris pratt bryce dallas howard irrfan khan vi...   \n",
       "\n",
       "          director                                           keywords  \\\n",
       "0  colin trevorrow  monster dna tyrannosaurus rex velociraptor island   \n",
       "\n",
       "                                      genres    imdb_id  final_numeric_weights  \n",
       "0  action adventure science fiction thriller  tt0369610                   2.25  "
      ]
     },
     "execution_count": 184,
     "metadata": {},
     "output_type": "execute_result"
    }
   ],
   "source": [
    "final_df[final_df['original_title'] == 'jurassic world']"
   ]
  },
  {
   "cell_type": "code",
   "execution_count": null,
   "metadata": {},
   "outputs": [],
   "source": []
  }
 ],
 "metadata": {
  "kernelspec": {
   "display_name": "Python 3",
   "language": "python",
   "name": "python3"
  },
  "language_info": {
   "codemirror_mode": {
    "name": "ipython",
    "version": 3
   },
   "file_extension": ".py",
   "mimetype": "text/x-python",
   "name": "python",
   "nbconvert_exporter": "python",
   "pygments_lexer": "ipython3",
   "version": "3.7.0"
  }
 },
 "nbformat": 4,
 "nbformat_minor": 2
}
